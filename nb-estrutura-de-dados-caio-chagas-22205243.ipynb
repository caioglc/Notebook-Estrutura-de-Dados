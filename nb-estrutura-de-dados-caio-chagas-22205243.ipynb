{
 "cells": [
  {
   "cell_type": "markdown",
   "id": "f6d3180f",
   "metadata": {
    "papermill": {
     "duration": 0.009652,
     "end_time": "2022-09-29T17:45:55.028034",
     "exception": false,
     "start_time": "2022-09-29T17:45:55.018382",
     "status": "completed"
    },
    "tags": []
   },
   "source": [
    "# Notebook de Estrutura de Dados e Algoritmos de Ordenação\n",
    "\n",
    "Centro de Ensino Unificado de Brasília - UniCeub\n",
    "\n",
    "Professor: Pedro Henrique Rodrigues Mendes\n",
    "\n",
    "2° Semestre de 2022\n",
    "\n",
    "**Curso:** Ciências de Dados e Machine Learning\n",
    "\n",
    "**Aluno:** Caio Gonçalves de Luna Chagas - 22205243"
   ]
  },
  {
   "cell_type": "markdown",
   "id": "3b7e73d2",
   "metadata": {
    "papermill": {
     "duration": 0.008009,
     "end_time": "2022-09-29T17:45:55.044550",
     "exception": false,
     "start_time": "2022-09-29T17:45:55.036541",
     "status": "completed"
    },
    "tags": []
   },
   "source": [
    "## Introdução\n",
    "\n",
    "Área onde o aluno deverá detalhar e introdudizr o leitor ao problema: [Compatilhamento de Bicicletas em Brasília](https://www.kaggle.com/datasets/joseguilhermelopes/bike-sharing-system-in-brasilia-brazil). \n",
    "\n",
    "A abordagem dever ser feita nos seguintes pontos:\n",
    "- **História do serviço de bicicletas compartilhadas em Brasilia;**\n",
    "- **Gloassário de dados (Descrever os campos dos datasets).**\n"
   ]
  },
  {
   "cell_type": "markdown",
   "id": "d5486a02",
   "metadata": {
    "papermill": {
     "duration": 0.007962,
     "end_time": "2022-09-29T17:45:55.060829",
     "exception": false,
     "start_time": "2022-09-29T17:45:55.052867",
     "status": "completed"
    },
    "tags": []
   },
   "source": [
    "## Importação dos Dados"
   ]
  },
  {
   "cell_type": "code",
   "execution_count": 1,
   "id": "a3322004",
   "metadata": {
    "_cell_guid": "b1076dfc-b9ad-4769-8c92-a6c4dae69d19",
    "_uuid": "8f2839f25d086af736a60e9eeb907d3b93b6e0e5",
    "execution": {
     "iopub.execute_input": "2022-09-29T17:45:55.079393Z",
     "iopub.status.busy": "2022-09-29T17:45:55.078921Z",
     "iopub.status.idle": "2022-09-29T17:45:55.102342Z",
     "shell.execute_reply": "2022-09-29T17:45:55.101124Z"
    },
    "papermill": {
     "duration": 0.035734,
     "end_time": "2022-09-29T17:45:55.104952",
     "exception": false,
     "start_time": "2022-09-29T17:45:55.069218",
     "status": "completed"
    },
    "tags": []
   },
   "outputs": [
    {
     "name": "stdout",
     "output_type": "stream",
     "text": [
      "/kaggle/input/bike-sharing-system-in-brasilia-brazil/df_stations.csv\n",
      "/kaggle/input/bike-sharing-system-in-brasilia-brazil/df_rides.csv\n"
     ]
    }
   ],
   "source": [
    "# This Python 3 environment comes with many helpful analytics libraries installed\n",
    "# It is defined by the kaggle/python Docker image: https://github.com/kaggle/docker-python\n",
    "# For example, here's several helpful packages to load\n",
    "\n",
    "import numpy as np # linear algebra\n",
    "import pandas as pd # data processing, CSV file I/O (e.g. pd.read_csv)\n",
    "\n",
    "# Input data files are available in the read-only \"../input/\" directory\n",
    "# For example, running this (by clicking run or pressing Shift+Enter) will list all files under the input directory\n",
    "\n",
    "import os\n",
    "for dirname, _, filenames in os.walk('/kaggle/input'):\n",
    "    for filename in filenames:\n",
    "        print(os.path.join(dirname, filename))\n",
    "\n",
    "# You can write up to 20GB to the current directory (/kaggle/working/) that gets preserved as output when you create a version using \"Save & Run All\" \n",
    "# You can also write temporary files to /kaggle/temp/, but they won't be saved outside of the current session"
   ]
  },
  {
   "cell_type": "code",
   "execution_count": 2,
   "id": "26a566b9",
   "metadata": {
    "execution": {
     "iopub.execute_input": "2022-09-29T17:45:55.124676Z",
     "iopub.status.busy": "2022-09-29T17:45:55.123910Z",
     "iopub.status.idle": "2022-09-29T17:45:56.156353Z",
     "shell.execute_reply": "2022-09-29T17:45:56.155273Z"
    },
    "papermill": {
     "duration": 1.045061,
     "end_time": "2022-09-29T17:45:56.158998",
     "exception": false,
     "start_time": "2022-09-29T17:45:55.113937",
     "status": "completed"
    },
    "tags": []
   },
   "outputs": [],
   "source": [
    "df_rides = pd.read_csv('../input/bike-sharing-system-in-brasilia-brazil/df_rides.csv', sep=',')\n",
    "df_stations = pd.read_csv('../input/bike-sharing-system-in-brasilia-brazil/df_stations.csv', sep=',')"
   ]
  },
  {
   "cell_type": "markdown",
   "id": "4a8e28eb",
   "metadata": {
    "papermill": {
     "duration": 0.008025,
     "end_time": "2022-09-29T17:45:56.175596",
     "exception": false,
     "start_time": "2022-09-29T17:45:56.167571",
     "status": "completed"
    },
    "tags": []
   },
   "source": [
    "## Formatação dos Dados"
   ]
  },
  {
   "cell_type": "code",
   "execution_count": 3,
   "id": "d8ed2f0c",
   "metadata": {
    "execution": {
     "iopub.execute_input": "2022-09-29T17:45:56.194720Z",
     "iopub.status.busy": "2022-09-29T17:45:56.193520Z",
     "iopub.status.idle": "2022-09-29T17:45:56.301931Z",
     "shell.execute_reply": "2022-09-29T17:45:56.300810Z"
    },
    "papermill": {
     "duration": 0.120638,
     "end_time": "2022-09-29T17:45:56.304637",
     "exception": false,
     "start_time": "2022-09-29T17:45:56.183999",
     "status": "completed"
    },
    "tags": []
   },
   "outputs": [],
   "source": [
    "# transformando a coluna user_birthdate no tipo data\n",
    "df_rides['user_birthdate'] = df_rides['user_birthdate'].astype(\"datetime64\")"
   ]
  },
  {
   "cell_type": "markdown",
   "id": "3096a810",
   "metadata": {
    "papermill": {
     "duration": 0.008037,
     "end_time": "2022-09-29T17:45:56.322425",
     "exception": false,
     "start_time": "2022-09-29T17:45:56.314388",
     "status": "completed"
    },
    "tags": []
   },
   "source": [
    "## Listas e Filas\n",
    "\n",
    "O Aluno deverá implementar um sistema de **Fila (first-in first-out) e Pilha (last in, first out)** com base na classe \"rides\" abaixo. \n",
    "\n",
    "O objetivo é criar um \"buffer de requisições\" utilizando a Classe Ride, portanto, o usuário quando solicita um serviço de bicicleta, a requisição deve organizada em uma Fila (first-in first-out) ou Pilha (last in, first out) para ser processada no sistema.\n",
    "\n",
    "**A classe Ride pode ser alterada para adequação ao sistemas de fila e pilha, sempre detalhando as mudanças no código.**\n",
    "\n",
    "**Sempre comentando código e detalhando o embasamento teórico para implementação da técnica.** "
   ]
  },
  {
   "cell_type": "code",
   "execution_count": 4,
   "id": "d2bc8020",
   "metadata": {
    "execution": {
     "iopub.execute_input": "2022-09-29T17:45:56.341462Z",
     "iopub.status.busy": "2022-09-29T17:45:56.341075Z",
     "iopub.status.idle": "2022-09-29T17:45:56.366085Z",
     "shell.execute_reply": "2022-09-29T17:45:56.364889Z"
    },
    "papermill": {
     "duration": 0.03765,
     "end_time": "2022-09-29T17:45:56.368407",
     "exception": false,
     "start_time": "2022-09-29T17:45:56.330757",
     "status": "completed"
    },
    "tags": []
   },
   "outputs": [],
   "source": [
    "class ride:\n",
    "    \n",
    "    uf_array = ['AP', 'DF', 'SP', 'RS', 'PR', 'RJ', 'GO', \n",
    "                'AC', 'MA', 'PA', 'MG', 'RN', 'PE', 'MT', \n",
    "                'ES', 'PB', 'RR', 'BA', 'AL', 'PI', 'CE', \n",
    "                'SC', 'RO', 'AM', 'MS', 'TO', 'SE'] \n",
    "    \n",
    "    gender_array = ['M','F']\n",
    "    \n",
    "    def __init__(self, gender, birthdate, residence, station_start, proximo = None):\n",
    "        \n",
    "        self.db = df_rides\n",
    "        self.db_stations = df_stations\n",
    "        self.proximo = proximo\n",
    "        \n",
    "        status = True\n",
    "        \n",
    "        if gender in ride.gender_array:\n",
    "            pass\n",
    "        else:\n",
    "            status = False\n",
    "            print(\"Não Possui essa informação de genero na base da dados\")\n",
    "            \n",
    "        if  station_start in self.db_stations.station.unique():\n",
    "            pass\n",
    "        else:\n",
    "            print(\"Não Possui essa informação de estação na base da dados\")\n",
    "            status = False    \n",
    "            \n",
    "        if  residence in ride.uf_array:\n",
    "            pass\n",
    "        else:\n",
    "            print(\"Não Possui essa informação de UF brasileiro na base da dados\")\n",
    "            status = False \n",
    "        \n",
    "        if status:\n",
    "            self.status = \"Iniciado\"\n",
    "            self.gender = gender\n",
    "            self.birthdate = birthdate\n",
    "            self.residence = residence\n",
    "            self.ride_date =  pd.Timestamp.now().strftime('%Y-%m-%d')\n",
    "            self.time_start = pd.Timestamp.now().strftime('%H:%M:%S')\n",
    "            self.station_start = station_start\n",
    "            \n",
    "            \n",
    "            self.index = len(self.db.index)\n",
    "            \n",
    "            self.time_end = None\n",
    "            self.station_end = None\n",
    "            self.ride_duration = None\n",
    "            self.ride_late = None\n",
    "            \n",
    "            insert_list = [self.gender,\n",
    "                          self.birthdate,\n",
    "                          self.residence,\n",
    "                          self.ride_date,\n",
    "                          self.time_start,\n",
    "                          self.time_end,\n",
    "                          self.station_start,\n",
    "                          self.station_end,\n",
    "                          self.ride_duration,\n",
    "                          self.ride_late]\n",
    "            \n",
    "            print(insert_list)\n",
    "            self.db.loc[self.index] = insert_list\n",
    "            \n",
    "        else:\n",
    "            print('Erro de Validação ou insert na base')\n",
    "                \n",
    "    \n",
    "    def user_age(self):\n",
    "        print(int(str((pd.Timestamp.now() - pd.to_datetime(self.birthdate, format='%Y-%m-%d') ) /365)[:2].strip()))\n",
    "        \n",
    "    def get(self):\n",
    "        \n",
    "        get_list = [self.gender,\n",
    "                    self.birthdate,\n",
    "                    self.residence,\n",
    "                    self.ride_date,\n",
    "                    self.time_start,\n",
    "                    self.time_end,\n",
    "                    self.station_start,\n",
    "                    self.station_end,\n",
    "                    self.ride_duration,\n",
    "                    self.ride_late]\n",
    "        \n",
    "        print(get_list)\n",
    "        \n",
    "    def finish_ride(self, station_end):\n",
    "        \n",
    "        status =  True\n",
    "        \n",
    "        if  station_end in self.db_stations.station.unique():\n",
    "            pass\n",
    "        else:\n",
    "            print(\"Não Possui essa informação como padrão na base da dados\")\n",
    "            status = False\n",
    "        \n",
    "        if status:\n",
    "            \n",
    "            self.status = \"Concluido\"\n",
    "            self.time_end = pd.Timestamp.now().strftime('%H:%M:%S')\n",
    "            self.station_end =  station_end\n",
    "            self.ride_duration = pd.Timedelta(pd.Timestamp.now() - pd.to_datetime(self.ride_date + ' ' + self.time_end)) / pd.Timedelta('60s')\n",
    "            \n",
    "            if self.ride_duration >= 60:\n",
    "                self.ride_late =   1\n",
    "            else:\n",
    "                self.ride_late =   0\n",
    "            \n",
    "            insert_list = [self.gender,\n",
    "                          self.birthdate,\n",
    "                          self.residence,\n",
    "                          self.ride_date,\n",
    "                          self.time_start,\n",
    "                          self.time_end,\n",
    "                          self.station_start,\n",
    "                          self.station_end,\n",
    "                          \"{0:0.2f}\".format(self.ride_duration),\n",
    "                          self.ride_late]\n",
    "            \n",
    "            print(insert_list)\n",
    "            self.db.loc[self.index] = insert_list\n",
    "            \n",
    "        else:\n",
    "            print('Erro de Validação ou insert na base')       "
   ]
  },
  {
   "cell_type": "code",
   "execution_count": 5,
   "id": "f11b5831",
   "metadata": {
    "execution": {
     "iopub.execute_input": "2022-09-29T17:45:56.386987Z",
     "iopub.status.busy": "2022-09-29T17:45:56.386246Z",
     "iopub.status.idle": "2022-09-29T17:45:56.391598Z",
     "shell.execute_reply": "2022-09-29T17:45:56.390454Z"
    },
    "papermill": {
     "duration": 0.017204,
     "end_time": "2022-09-29T17:45:56.393909",
     "exception": false,
     "start_time": "2022-09-29T17:45:56.376705",
     "status": "completed"
    },
    "tags": []
   },
   "outputs": [],
   "source": [
    "import random\n",
    "from pprint import pprint\n",
    "from re import L\n",
    "import time\n",
    "from ctypes import pointer"
   ]
  },
  {
   "cell_type": "markdown",
   "id": "58397b0e",
   "metadata": {
    "papermill": {
     "duration": 0.007973,
     "end_time": "2022-09-29T17:45:56.410259",
     "exception": false,
     "start_time": "2022-09-29T17:45:56.402286",
     "status": "completed"
    },
    "tags": []
   },
   "source": [
    "### Fila (first-in first-out)"
   ]
  },
  {
   "cell_type": "code",
   "execution_count": 6,
   "id": "dd4bacad",
   "metadata": {
    "execution": {
     "iopub.execute_input": "2022-09-29T17:45:56.429040Z",
     "iopub.status.busy": "2022-09-29T17:45:56.428189Z",
     "iopub.status.idle": "2022-09-29T17:45:56.434170Z",
     "shell.execute_reply": "2022-09-29T17:45:56.433113Z"
    },
    "papermill": {
     "duration": 0.017897,
     "end_time": "2022-09-29T17:45:56.436434",
     "exception": false,
     "start_time": "2022-09-29T17:45:56.418537",
     "status": "completed"
    },
    "tags": []
   },
   "outputs": [],
   "source": [
    "class Node_fila:\n",
    "    def __init__(self,data = None, proximo = None):\n",
    "        self.data = data    \n",
    "        self.proximo = proximo"
   ]
  },
  {
   "cell_type": "code",
   "execution_count": 7,
   "id": "0a1138bb",
   "metadata": {
    "execution": {
     "iopub.execute_input": "2022-09-29T17:45:56.454977Z",
     "iopub.status.busy": "2022-09-29T17:45:56.454547Z",
     "iopub.status.idle": "2022-09-29T17:46:04.566143Z",
     "shell.execute_reply": "2022-09-29T17:46:04.564974Z"
    },
    "papermill": {
     "duration": 8.124112,
     "end_time": "2022-09-29T17:46:04.568834",
     "exception": false,
     "start_time": "2022-09-29T17:45:56.444722",
     "status": "completed"
    },
    "tags": []
   },
   "outputs": [
    {
     "name": "stdout",
     "output_type": "stream",
     "text": [
      "['M', '2016-05-09', 'PA', '2022-09-29', '17:45:56', None, '2 - Praça Buriti', None, None, None]\n",
      "['F', '1998-03-18', 'RO', '2022-09-29', '17:45:57', None, '6 - Rodoviária', None, None, None]\n",
      "['F', '1991-07-24', 'AM', '2022-09-29', '17:45:57', None, '11 - Rodoviária 2', None, None, None]\n",
      "['F', '1995-08-13', 'RN', '2022-09-29', '17:45:57', None, '26 - Ministério da Saude', None, None, None]\n",
      "['F', '1995-12-06', 'AL', '2022-09-29', '17:45:58', None, '17 - Shopping Pátio Brasil', None, None, None]\n",
      "['F', '1995-01-05', 'PR', '2022-09-29', '17:45:58', None, '26 - Ministério da Saude', None, None, None]\n",
      "------------------------------------------- F I N A L I Z A N D O -------------------------------------------\n",
      "['M', '2016-05-09', 'PA', '2022-09-29', '17:45:56', '17:45:58', '2 - Praça Buriti', '500 - Deck Sul Kids', '0.00', 0]\n",
      "['F', '1998-03-18', 'RO', '2022-09-29', '17:45:57', '17:45:59', '6 - Rodoviária', '11 - Rodoviária 2', '0.00', 0]\n",
      "['F', '1991-07-24', 'AM', '2022-09-29', '17:45:57', '17:46:00', '11 - Rodoviária 2', '38 - SQN 205', '0.00', 0]\n",
      "['F', '1995-08-13', 'RN', '2022-09-29', '17:45:57', '17:46:01', '26 - Ministério da Saude', '3 - Centro de Convenções', '0.01', 0]\n",
      "['F', '1995-12-06', 'AL', '2022-09-29', '17:45:58', '17:46:02', '17 - Shopping Pátio Brasil', '24 - Galeria', '0.01', 0]\n",
      "['F', '1995-01-05', 'PR', '2022-09-29', '17:45:58', '17:46:03', '26 - Ministério da Saude', '13 - Liberty Mall', '0.01', 0]\n"
     ]
    }
   ],
   "source": [
    "class ListaEncadeada_fila:\n",
    "    def __init__(self):\n",
    "        self.cabeca = None\n",
    "        self.tamanho = 0\n",
    "        \n",
    "#################################################\n",
    "        \n",
    "    def getNode(self, index):\n",
    "        ponteiro = self.cabeca\n",
    "        for i in range(index):\n",
    "            if ponteiro:\n",
    "                ponteiro = ponteiro.proximo\n",
    "            else:\n",
    "                raise IndexError(\"Index fora de alcance\")\n",
    "        return ponteiro\n",
    "        \n",
    "#################################################\n",
    "    \n",
    "    def new_fila(self, elemento):\n",
    "        if self.cabeca:\n",
    "            ponteiro = self.cabeca\n",
    "            while(ponteiro.proximo):\n",
    "                ponteiro = ponteiro.proximo\n",
    "            ponteiro.proximo = Node_fila(elemento)\n",
    "        else:\n",
    "            self.cabeca = Node_fila(elemento)\n",
    "        self.tamanho += 1\n",
    "        \n",
    "#################################################\n",
    "\n",
    "    def delete_fila(self):\n",
    "            self.cabeca = self.cabeca.proximo\n",
    "            self.tamanho -= 1\n",
    "    \n",
    "#################################################\n",
    "        \n",
    "    def __len__(self):\n",
    "        return self.tamanho   \n",
    "\n",
    "lista = ListaEncadeada_fila()\n",
    "\n",
    "#################################################\n",
    "\n",
    "def new_ride_fila():\n",
    "    ride_gerada = ride(random.choice(ride.gender_array),\n",
    "                  str(df_rides.user_birthdate[random.randint(0,287321)])[0:10],\n",
    "                  random.choice(ride.uf_array),\n",
    "                  str(df_rides.station_start[random.randint(0,287320)]).strip())\n",
    "    lista.new_fila(ride_gerada)\n",
    "    \n",
    "for x in range(6):\n",
    "    new_ride_fila()    \n",
    "\n",
    "print(\"------------------------------------------- F I N A L I Z A N D O -------------------------------------------\")\n",
    "\n",
    "#################################################\n",
    "\n",
    "def end_ride_fila():\n",
    "    lista.getNode(0).data.finish_ride(df_stations.station[random.randint(0,48)])\n",
    "    lista.delete_fila()\n",
    "    \n",
    "#################################################\n",
    "\n",
    "for x in range(lista.tamanho):    \n",
    "    end_ride_fila()\n",
    "    time.sleep(1)"
   ]
  },
  {
   "cell_type": "markdown",
   "id": "8d56ff70",
   "metadata": {
    "papermill": {
     "duration": 0.008531,
     "end_time": "2022-09-29T17:46:04.586834",
     "exception": false,
     "start_time": "2022-09-29T17:46:04.578303",
     "status": "completed"
    },
    "tags": []
   },
   "source": [
    "### Pilha (last in, first out)"
   ]
  },
  {
   "cell_type": "code",
   "execution_count": 8,
   "id": "07d9ceac",
   "metadata": {
    "execution": {
     "iopub.execute_input": "2022-09-29T17:46:04.606501Z",
     "iopub.status.busy": "2022-09-29T17:46:04.605724Z",
     "iopub.status.idle": "2022-09-29T17:46:04.610679Z",
     "shell.execute_reply": "2022-09-29T17:46:04.609929Z"
    },
    "papermill": {
     "duration": 0.01708,
     "end_time": "2022-09-29T17:46:04.612709",
     "exception": false,
     "start_time": "2022-09-29T17:46:04.595629",
     "status": "completed"
    },
    "tags": []
   },
   "outputs": [],
   "source": [
    "class Node_pilha:\n",
    "    def __init__(self,data = None, anterior = None):\n",
    "        self.data = data    \n",
    "        self.anterior = anterior "
   ]
  },
  {
   "cell_type": "code",
   "execution_count": 9,
   "id": "1ff82dbd",
   "metadata": {
    "execution": {
     "iopub.execute_input": "2022-09-29T17:46:04.632892Z",
     "iopub.status.busy": "2022-09-29T17:46:04.631775Z",
     "iopub.status.idle": "2022-09-29T17:46:11.364280Z",
     "shell.execute_reply": "2022-09-29T17:46:11.363342Z"
    },
    "papermill": {
     "duration": 6.745309,
     "end_time": "2022-09-29T17:46:11.366854",
     "exception": false,
     "start_time": "2022-09-29T17:46:04.621545",
     "status": "completed"
    },
    "tags": []
   },
   "outputs": [
    {
     "name": "stdout",
     "output_type": "stream",
     "text": [
      "['F', '1991-01-05', 'RO', '2022-09-29', '17:46:04', None, '15 - Brasil 21', None, None, None]\n",
      "['M', '1980-09-24', 'AP', '2022-09-29', '17:46:04', None, '6 - Rodoviária', None, None, None]\n",
      "['M', '1983-08-17', 'PA', '2022-09-29', '17:46:04', None, '47 - EQN 410/411', None, None, None]\n",
      "['M', '1992-06-16', 'MA', '2022-09-29', '17:46:04', None, '44 - ICC Sul', None, None, None]\n",
      "['F', '1998-03-27', 'AL', '2022-09-29', '17:46:04', None, '31 - EQS 204/205', None, None, None]\n",
      "['M', '1994-09-14', 'MT', '2022-09-29', '17:46:04', None, '35 - CLN 403', None, None, None]\n",
      "------------------------------------------- F I N A L I Z A N D O -------------------------------------------\n",
      "['M', '1994-09-14', 'MT', '2022-09-29', '17:46:04', '17:46:04', '35 - CLN 403', '14 - Brasília Shopping', '0.02', 0]\n",
      "['F', '1998-03-27', 'AL', '2022-09-29', '17:46:04', '17:46:05', '31 - EQS 204/205', '39 - CLN 406', '0.02', 0]\n",
      "['M', '1992-06-16', 'MA', '2022-09-29', '17:46:04', '17:46:07', '44 - ICC Sul', '46 - EQN 408/409', '0.00', 0]\n",
      "['M', '1983-08-17', 'PA', '2022-09-29', '17:46:04', '17:46:08', '47 - EQN 410/411', '7 - Catedral Metropolitana', '0.00', 0]\n",
      "['M', '1980-09-24', 'AP', '2022-09-29', '17:46:04', '17:46:09', '6 - Rodoviária', '4 - Torre de TV', '0.00', 0]\n",
      "['F', '1991-01-05', 'RO', '2022-09-29', '17:46:04', '17:46:10', '15 - Brasil 21', '31 - EQS 204/205', '0.00', 0]\n"
     ]
    }
   ],
   "source": [
    "class ListaEncadeada_pilha:\n",
    "    def __init__(self):\n",
    "        self.topo = None\n",
    "        self.tamanho = 0\n",
    "        \n",
    "#################################################\n",
    " \n",
    "    def getNode(self, index):\n",
    "        ponteiro = self.topo\n",
    "        for i in range(index):\n",
    "            if ponteiro:\n",
    "                ponteiro = ponteiro.anterior\n",
    "            else:\n",
    "                raise IndexError(\"Index fora de alcance\")\n",
    "        return ponteiro\n",
    "    \n",
    "#################################################\n",
    "        \n",
    "    def new_pilha(self, elemento):\n",
    "        ponteiro = Node_pilha(elemento)\n",
    "        ponteiro.anterior = self.topo\n",
    "        self.topo = ponteiro\n",
    "        self.tamanho += 1         \n",
    "        \n",
    "#################################################\n",
    "\n",
    "    def delete_pilha(self):\n",
    "        self.topo = self.topo.anterior\n",
    "        self.tamanho -= 1\n",
    "        \n",
    "#################################################\n",
    "\n",
    "    def __len__(self):\n",
    "        return self.tamanho   \n",
    "    \n",
    "lista_pilha = ListaEncadeada_pilha()\n",
    "\n",
    "#################################################\n",
    "\n",
    "def new_ride_pilha():\n",
    "    ride_gerada = ride(random.choice(ride.gender_array),\n",
    "                  str(df_rides.user_birthdate[random.randint(0,287321)])[0:10],\n",
    "                  random.choice(ride.uf_array),\n",
    "                  str(df_rides.station_start[random.randint(0,287320)]).strip())\n",
    "    lista_pilha.new_pilha(ride_gerada)\n",
    "    \n",
    "for x in range(6):\n",
    "    new_ride_pilha()    \n",
    "\n",
    "print(\"------------------------------------------- F I N A L I Z A N D O -------------------------------------------\")\n",
    "\n",
    "#################################################\n",
    "\n",
    "def end_ride_pilha():\n",
    "    lista_pilha.getNode(-1).data.finish_ride(df_stations.station[random.randint(0,48)])\n",
    "    lista_pilha.delete_pilha()\n",
    "\n",
    "#################################################\n",
    "\n",
    "for x in range(lista_pilha.tamanho):\n",
    "    end_ride_pilha()\n",
    "    time.sleep(1)"
   ]
  },
  {
   "cell_type": "markdown",
   "id": "15057bd7",
   "metadata": {
    "papermill": {
     "duration": 0.009136,
     "end_time": "2022-09-29T17:46:11.385436",
     "exception": false,
     "start_time": "2022-09-29T17:46:11.376300",
     "status": "completed"
    },
    "tags": []
   },
   "source": [
    "## Algortimos de Ordenação\n",
    "O Aluno desenvolve os algoritmos de ordenação abaixo, com o objetivo de ordenar o dataset **df_stations** embaralhado.\n",
    "\n",
    "**Realizar a Ánalise de Complexidade nos algoritmos (Notação Big O e Melhor Caso/Pior Caso)**\n",
    "\n",
    "**Sempre comentando código e detalhando o embasamento teórico para implementação da técnica.** "
   ]
  },
  {
   "cell_type": "code",
   "execution_count": 10,
   "id": "79dd4e0c",
   "metadata": {
    "execution": {
     "iopub.execute_input": "2022-09-29T17:46:11.406042Z",
     "iopub.status.busy": "2022-09-29T17:46:11.405625Z",
     "iopub.status.idle": "2022-09-29T17:46:11.423955Z",
     "shell.execute_reply": "2022-09-29T17:46:11.422782Z"
    },
    "papermill": {
     "duration": 0.031709,
     "end_time": "2022-09-29T17:46:11.426373",
     "exception": false,
     "start_time": "2022-09-29T17:46:11.394664",
     "status": "completed"
    },
    "tags": []
   },
   "outputs": [
    {
     "data": {
      "text/html": [
       "<div>\n",
       "<style scoped>\n",
       "    .dataframe tbody tr th:only-of-type {\n",
       "        vertical-align: middle;\n",
       "    }\n",
       "\n",
       "    .dataframe tbody tr th {\n",
       "        vertical-align: top;\n",
       "    }\n",
       "\n",
       "    .dataframe thead th {\n",
       "        text-align: right;\n",
       "    }\n",
       "</style>\n",
       "<table border=\"1\" class=\"dataframe\">\n",
       "  <thead>\n",
       "    <tr style=\"text-align: right;\">\n",
       "      <th></th>\n",
       "      <th>station</th>\n",
       "      <th>station_number</th>\n",
       "      <th>station_name</th>\n",
       "      <th>lat</th>\n",
       "      <th>lon</th>\n",
       "    </tr>\n",
       "  </thead>\n",
       "  <tbody>\n",
       "    <tr>\n",
       "      <th>0</th>\n",
       "      <td>1 - Memorial JK</td>\n",
       "      <td>1</td>\n",
       "      <td>Memorial JK</td>\n",
       "      <td>-15.783479</td>\n",
       "      <td>-47.913372</td>\n",
       "    </tr>\n",
       "    <tr>\n",
       "      <th>1</th>\n",
       "      <td>2 - Praça Buriti</td>\n",
       "      <td>2</td>\n",
       "      <td>Praça Buriti</td>\n",
       "      <td>-15.785651</td>\n",
       "      <td>-47.908750</td>\n",
       "    </tr>\n",
       "    <tr>\n",
       "      <th>2</th>\n",
       "      <td>3 - Centro de Convenções</td>\n",
       "      <td>3</td>\n",
       "      <td>Centro de Convenções</td>\n",
       "      <td>-15.786409</td>\n",
       "      <td>-47.899865</td>\n",
       "    </tr>\n",
       "    <tr>\n",
       "      <th>3</th>\n",
       "      <td>4 - Torre de TV</td>\n",
       "      <td>4</td>\n",
       "      <td>Torre de TV</td>\n",
       "      <td>-15.789581</td>\n",
       "      <td>-47.894312</td>\n",
       "    </tr>\n",
       "    <tr>\n",
       "      <th>4</th>\n",
       "      <td>5 - Setor Hoteleiro Norte</td>\n",
       "      <td>5</td>\n",
       "      <td>Setor Hoteleiro Norte</td>\n",
       "      <td>-15.789029</td>\n",
       "      <td>-47.891015</td>\n",
       "    </tr>\n",
       "  </tbody>\n",
       "</table>\n",
       "</div>"
      ],
      "text/plain": [
       "                     station  station_number            station_name  \\\n",
       "0            1 - Memorial JK               1             Memorial JK   \n",
       "1           2 - Praça Buriti               2            Praça Buriti   \n",
       "2   3 - Centro de Convenções               3    Centro de Convenções   \n",
       "3            4 - Torre de TV               4             Torre de TV   \n",
       "4  5 - Setor Hoteleiro Norte               5   Setor Hoteleiro Norte   \n",
       "\n",
       "         lat        lon  \n",
       "0 -15.783479 -47.913372  \n",
       "1 -15.785651 -47.908750  \n",
       "2 -15.786409 -47.899865  \n",
       "3 -15.789581 -47.894312  \n",
       "4 -15.789029 -47.891015  "
      ]
     },
     "execution_count": 10,
     "metadata": {},
     "output_type": "execute_result"
    }
   ],
   "source": [
    "df_stations.head(5)"
   ]
  },
  {
   "cell_type": "code",
   "execution_count": 11,
   "id": "e551ae6d",
   "metadata": {
    "execution": {
     "iopub.execute_input": "2022-09-29T17:46:11.447905Z",
     "iopub.status.busy": "2022-09-29T17:46:11.447242Z",
     "iopub.status.idle": "2022-09-29T17:46:11.453859Z",
     "shell.execute_reply": "2022-09-29T17:46:11.452792Z"
    },
    "papermill": {
     "duration": 0.020201,
     "end_time": "2022-09-29T17:46:11.456232",
     "exception": false,
     "start_time": "2022-09-29T17:46:11.436031",
     "status": "completed"
    },
    "tags": []
   },
   "outputs": [],
   "source": [
    "df_stations = df_stations.sample(frac=1,random_state=42)"
   ]
  },
  {
   "cell_type": "code",
   "execution_count": 12,
   "id": "8477b060",
   "metadata": {
    "execution": {
     "iopub.execute_input": "2022-09-29T17:46:11.477051Z",
     "iopub.status.busy": "2022-09-29T17:46:11.476586Z",
     "iopub.status.idle": "2022-09-29T17:46:11.491602Z",
     "shell.execute_reply": "2022-09-29T17:46:11.490535Z"
    },
    "papermill": {
     "duration": 0.028157,
     "end_time": "2022-09-29T17:46:11.493960",
     "exception": false,
     "start_time": "2022-09-29T17:46:11.465803",
     "status": "completed"
    },
    "tags": []
   },
   "outputs": [
    {
     "data": {
      "text/html": [
       "<div>\n",
       "<style scoped>\n",
       "    .dataframe tbody tr th:only-of-type {\n",
       "        vertical-align: middle;\n",
       "    }\n",
       "\n",
       "    .dataframe tbody tr th {\n",
       "        vertical-align: top;\n",
       "    }\n",
       "\n",
       "    .dataframe thead th {\n",
       "        text-align: right;\n",
       "    }\n",
       "</style>\n",
       "<table border=\"1\" class=\"dataframe\">\n",
       "  <thead>\n",
       "    <tr style=\"text-align: right;\">\n",
       "      <th></th>\n",
       "      <th>station</th>\n",
       "      <th>station_number</th>\n",
       "      <th>station_name</th>\n",
       "      <th>lat</th>\n",
       "      <th>lon</th>\n",
       "    </tr>\n",
       "  </thead>\n",
       "  <tbody>\n",
       "    <tr>\n",
       "      <th>13</th>\n",
       "      <td>14 - Brasília Shopping</td>\n",
       "      <td>14</td>\n",
       "      <td>Brasília Shopping</td>\n",
       "      <td>-15.786409</td>\n",
       "      <td>-47.887898</td>\n",
       "    </tr>\n",
       "    <tr>\n",
       "      <th>45</th>\n",
       "      <td>46 - EQN 408/409</td>\n",
       "      <td>46</td>\n",
       "      <td>EQN 408/409</td>\n",
       "      <td>-15.758767</td>\n",
       "      <td>-47.878664</td>\n",
       "    </tr>\n",
       "    <tr>\n",
       "      <th>47</th>\n",
       "      <td>500 - Deck Sul Kids</td>\n",
       "      <td>500</td>\n",
       "      <td>Deck Sul Kids</td>\n",
       "      <td>-15.837818</td>\n",
       "      <td>-47.902195</td>\n",
       "    </tr>\n",
       "    <tr>\n",
       "      <th>44</th>\n",
       "      <td>45 - Centro Olímpico</td>\n",
       "      <td>45</td>\n",
       "      <td>Centro Olímpico</td>\n",
       "      <td>-15.765133</td>\n",
       "      <td>-47.857989</td>\n",
       "    </tr>\n",
       "    <tr>\n",
       "      <th>17</th>\n",
       "      <td>18 - Praça do Povo</td>\n",
       "      <td>18</td>\n",
       "      <td>Praça do Povo</td>\n",
       "      <td>-15.798575</td>\n",
       "      <td>-47.889059</td>\n",
       "    </tr>\n",
       "    <tr>\n",
       "      <th>27</th>\n",
       "      <td>28 - CNMP - Conselho Nacional do Ministério Pú...</td>\n",
       "      <td>28</td>\n",
       "      <td>CNMP</td>\n",
       "      <td>-15.804550</td>\n",
       "      <td>-47.867038</td>\n",
       "    </tr>\n",
       "    <tr>\n",
       "      <th>26</th>\n",
       "      <td>27 - Ministério do Planejamento</td>\n",
       "      <td>27</td>\n",
       "      <td>Ministério do Planejamento</td>\n",
       "      <td>-15.794664</td>\n",
       "      <td>-47.874487</td>\n",
       "    </tr>\n",
       "    <tr>\n",
       "      <th>25</th>\n",
       "      <td>26 - Ministério da Saude</td>\n",
       "      <td>26</td>\n",
       "      <td>Ministério da Saude</td>\n",
       "      <td>-15.799611</td>\n",
       "      <td>-47.868395</td>\n",
       "    </tr>\n",
       "    <tr>\n",
       "      <th>31</th>\n",
       "      <td>32 - SQS 305</td>\n",
       "      <td>32</td>\n",
       "      <td>SQS 305</td>\n",
       "      <td>-15.809892</td>\n",
       "      <td>-47.897377</td>\n",
       "    </tr>\n",
       "    <tr>\n",
       "      <th>19</th>\n",
       "      <td>20 - SAS</td>\n",
       "      <td>20</td>\n",
       "      <td>SAS</td>\n",
       "      <td>-15.799919</td>\n",
       "      <td>-47.880428</td>\n",
       "    </tr>\n",
       "    <tr>\n",
       "      <th>12</th>\n",
       "      <td>13 - Liberty Mall</td>\n",
       "      <td>13</td>\n",
       "      <td>Liberty Mall</td>\n",
       "      <td>-15.785720</td>\n",
       "      <td>-47.883563</td>\n",
       "    </tr>\n",
       "    <tr>\n",
       "      <th>4</th>\n",
       "      <td>5 - Setor Hoteleiro Norte</td>\n",
       "      <td>5</td>\n",
       "      <td>Setor Hoteleiro Norte</td>\n",
       "      <td>-15.789029</td>\n",
       "      <td>-47.891015</td>\n",
       "    </tr>\n",
       "    <tr>\n",
       "      <th>34</th>\n",
       "      <td>35 - CLN 403</td>\n",
       "      <td>35</td>\n",
       "      <td>CLN 403</td>\n",
       "      <td>-15.780134</td>\n",
       "      <td>-47.875000</td>\n",
       "    </tr>\n",
       "    <tr>\n",
       "      <th>8</th>\n",
       "      <td>9 - Ministério da Cultura</td>\n",
       "      <td>9</td>\n",
       "      <td>Ministério da Cultura</td>\n",
       "      <td>-15.798295</td>\n",
       "      <td>-47.871807</td>\n",
       "    </tr>\n",
       "    <tr>\n",
       "      <th>3</th>\n",
       "      <td>4 - Torre de TV</td>\n",
       "      <td>4</td>\n",
       "      <td>Torre de TV</td>\n",
       "      <td>-15.789581</td>\n",
       "      <td>-47.894312</td>\n",
       "    </tr>\n",
       "  </tbody>\n",
       "</table>\n",
       "</div>"
      ],
      "text/plain": [
       "                                              station  station_number  \\\n",
       "13                             14 - Brasília Shopping              14   \n",
       "45                                   46 - EQN 408/409              46   \n",
       "47                                500 - Deck Sul Kids             500   \n",
       "44                               45 - Centro Olímpico              45   \n",
       "17                                 18 - Praça do Povo              18   \n",
       "27  28 - CNMP - Conselho Nacional do Ministério Pú...              28   \n",
       "26                    27 - Ministério do Planejamento              27   \n",
       "25                           26 - Ministério da Saude              26   \n",
       "31                                       32 - SQS 305              32   \n",
       "19                                           20 - SAS              20   \n",
       "12                                  13 - Liberty Mall              13   \n",
       "4                           5 - Setor Hoteleiro Norte               5   \n",
       "34                                       35 - CLN 403              35   \n",
       "8                           9 - Ministério da Cultura               9   \n",
       "3                                     4 - Torre de TV               4   \n",
       "\n",
       "                   station_name        lat        lon  \n",
       "13            Brasília Shopping -15.786409 -47.887898  \n",
       "45                  EQN 408/409 -15.758767 -47.878664  \n",
       "47                Deck Sul Kids -15.837818 -47.902195  \n",
       "44              Centro Olímpico -15.765133 -47.857989  \n",
       "17                Praça do Povo -15.798575 -47.889059  \n",
       "27                        CNMP  -15.804550 -47.867038  \n",
       "26   Ministério do Planejamento -15.794664 -47.874487  \n",
       "25          Ministério da Saude -15.799611 -47.868395  \n",
       "31                      SQS 305 -15.809892 -47.897377  \n",
       "19                          SAS -15.799919 -47.880428  \n",
       "12                 Liberty Mall -15.785720 -47.883563  \n",
       "4         Setor Hoteleiro Norte -15.789029 -47.891015  \n",
       "34                      CLN 403 -15.780134 -47.875000  \n",
       "8         Ministério da Cultura -15.798295 -47.871807  \n",
       "3                   Torre de TV -15.789581 -47.894312  "
      ]
     },
     "execution_count": 12,
     "metadata": {},
     "output_type": "execute_result"
    }
   ],
   "source": [
    "df_stations.head(15)"
   ]
  },
  {
   "cell_type": "markdown",
   "id": "48a5d05a",
   "metadata": {
    "papermill": {
     "duration": 0.009451,
     "end_time": "2022-09-29T17:46:11.513422",
     "exception": false,
     "start_time": "2022-09-29T17:46:11.503971",
     "status": "completed"
    },
    "tags": []
   },
   "source": [
    "### Bubblesort"
   ]
  },
  {
   "cell_type": "code",
   "execution_count": 13,
   "id": "3061ff7c",
   "metadata": {
    "execution": {
     "iopub.execute_input": "2022-09-29T17:46:11.534957Z",
     "iopub.status.busy": "2022-09-29T17:46:11.534527Z",
     "iopub.status.idle": "2022-09-29T17:46:11.540799Z",
     "shell.execute_reply": "2022-09-29T17:46:11.539685Z"
    },
    "papermill": {
     "duration": 0.019682,
     "end_time": "2022-09-29T17:46:11.542915",
     "exception": false,
     "start_time": "2022-09-29T17:46:11.523233",
     "status": "completed"
    },
    "tags": []
   },
   "outputs": [],
   "source": [
    "def bubbleSort(array):\n",
    "    for i in range(len(array) -1):\n",
    "        for j in range(len(array) - 1 - i):\n",
    "            if array[j]>array[j+1]:\n",
    "                temp = array[j]\n",
    "                array[j] = array[j + 1]\n",
    "                array[j + 1] = temp"
   ]
  },
  {
   "cell_type": "code",
   "execution_count": 14,
   "id": "d9b11a5f",
   "metadata": {
    "execution": {
     "iopub.execute_input": "2022-09-29T17:46:11.564395Z",
     "iopub.status.busy": "2022-09-29T17:46:11.563999Z",
     "iopub.status.idle": "2022-09-29T17:46:11.568973Z",
     "shell.execute_reply": "2022-09-29T17:46:11.567927Z"
    },
    "papermill": {
     "duration": 0.018347,
     "end_time": "2022-09-29T17:46:11.571103",
     "exception": false,
     "start_time": "2022-09-29T17:46:11.552756",
     "status": "completed"
    },
    "tags": []
   },
   "outputs": [],
   "source": [
    "# def bubble_sort_caio(lista_exemplo):\n",
    "    \n",
    "#    qntd = len(lista_exemplo)\n",
    "\n",
    "#    for i in enumerate(lista_exemplo):    \n",
    "#        n = 1\n",
    "#        for elemento in enumerate(lista_exemplo):\n",
    "#            if qntd == n:\n",
    "#                pass\n",
    "#            else: \n",
    "#                elemento_atual = elemento[1]\n",
    "#                elemento_proximo = lista_exemplo[elemento[0]+1]\n",
    "#                if elemento_atual>elemento_proximo:\n",
    "#                    lista_exemplo[elemento[0]] = elemento_proximo\n",
    "#                    lista_exemplo[elemento[0]+1] = elemento_atual\n",
    "#                else: \n",
    "#                    pass\n",
    "#                n = n+1\n",
    "#    return lista_exemplo "
   ]
  },
  {
   "cell_type": "markdown",
   "id": "ee50fb85",
   "metadata": {
    "papermill": {
     "duration": 0.009555,
     "end_time": "2022-09-29T17:46:11.590671",
     "exception": false,
     "start_time": "2022-09-29T17:46:11.581116",
     "status": "completed"
    },
    "tags": []
   },
   "source": [
    "### Mergesort"
   ]
  },
  {
   "cell_type": "code",
   "execution_count": 15,
   "id": "6529f0b4",
   "metadata": {
    "execution": {
     "iopub.execute_input": "2022-09-29T17:46:11.612105Z",
     "iopub.status.busy": "2022-09-29T17:46:11.611665Z",
     "iopub.status.idle": "2022-09-29T17:46:11.621079Z",
     "shell.execute_reply": "2022-09-29T17:46:11.619953Z"
    },
    "papermill": {
     "duration": 0.022817,
     "end_time": "2022-09-29T17:46:11.623323",
     "exception": false,
     "start_time": "2022-09-29T17:46:11.600506",
     "status": "completed"
    },
    "tags": []
   },
   "outputs": [],
   "source": [
    "def mergeSort(array):\n",
    "    print(\"Splitting \", array)\n",
    "    if len(alist) > 1:\n",
    "        mid = len(alist) // 2\n",
    "        lefthalf = array[:mid]\n",
    "        righthalf = array[mid:]\n",
    "\n",
    "        mergeSort(lefthalf)\n",
    "        mergeSort(righthalf)\n",
    "\n",
    "        i = 0\n",
    "        j = 0\n",
    "        k = 0\n",
    "        while i < len(lefthalf) and j < len(righthalf):\n",
    "            if lefthalf[i] < righthalf[j]:\n",
    "                array[k] = lefthalf[j]\n",
    "                i += 1\n",
    "            else:\n",
    "                array[k] = righthalf[j]\n",
    "                j += 1\n",
    "            k += 1\n",
    "\n",
    "        while i < len(lefthalf):\n",
    "            array[k] = lefthalf[i]\n",
    "            i += 1\n",
    "            k += 1\n",
    "\n",
    "        while j < len(righthalf):\n",
    "            array[k] = righthalf[j]\n",
    "            j += 1\n",
    "            k += 1\n",
    "    print(\"Merging \", array)"
   ]
  },
  {
   "cell_type": "markdown",
   "id": "433cd7f8",
   "metadata": {
    "papermill": {
     "duration": 0.009572,
     "end_time": "2022-09-29T17:46:11.642717",
     "exception": false,
     "start_time": "2022-09-29T17:46:11.633145",
     "status": "completed"
    },
    "tags": []
   },
   "source": [
    "### Heapsort"
   ]
  },
  {
   "cell_type": "code",
   "execution_count": 16,
   "id": "36e4d487",
   "metadata": {
    "execution": {
     "iopub.execute_input": "2022-09-29T17:46:11.664046Z",
     "iopub.status.busy": "2022-09-29T17:46:11.663633Z",
     "iopub.status.idle": "2022-09-29T17:46:11.670842Z",
     "shell.execute_reply": "2022-09-29T17:46:11.669667Z"
    },
    "papermill": {
     "duration": 0.020608,
     "end_time": "2022-09-29T17:46:11.673212",
     "exception": false,
     "start_time": "2022-09-29T17:46:11.652604",
     "status": "completed"
    },
    "tags": []
   },
   "outputs": [],
   "source": [
    "def heapify(array, n, i):\n",
    "    maior = i\n",
    "    l = 2 * i + 1\n",
    "    r = 2 * i + 2\n",
    "\n",
    "    if l < n and array[i] < array[l]:\n",
    "        maior = l\n",
    "\n",
    "    if r < n and array[maior] < array[r]:\n",
    "        maior = r\n",
    "\n",
    "    if maior != i:\n",
    "        array[i], array[maior] = array[maior], array[i]\n",
    "        heapify(array, n, maior)"
   ]
  },
  {
   "cell_type": "code",
   "execution_count": 17,
   "id": "f9719409",
   "metadata": {
    "execution": {
     "iopub.execute_input": "2022-09-29T17:46:11.694712Z",
     "iopub.status.busy": "2022-09-29T17:46:11.694309Z",
     "iopub.status.idle": "2022-09-29T17:46:11.700927Z",
     "shell.execute_reply": "2022-09-29T17:46:11.699825Z"
    },
    "papermill": {
     "duration": 0.020067,
     "end_time": "2022-09-29T17:46:11.703241",
     "exception": false,
     "start_time": "2022-09-29T17:46:11.683174",
     "status": "completed"
    },
    "tags": []
   },
   "outputs": [],
   "source": [
    "def heapSort(array):\n",
    "    n = len(array)\n",
    "\n",
    "    for i in range(n // 2, -1, -1):\n",
    "        heapify(array, n, i)\n",
    "\n",
    "    for i in range(n - 1, 0, -1):\n",
    "        array[i], array[0] = array[0], array[i]\n",
    "\n",
    "        heapify(array, i, 0)"
   ]
  },
  {
   "cell_type": "markdown",
   "id": "63ddacd1",
   "metadata": {
    "papermill": {
     "duration": 0.009624,
     "end_time": "2022-09-29T17:46:11.723213",
     "exception": false,
     "start_time": "2022-09-29T17:46:11.713589",
     "status": "completed"
    },
    "tags": []
   },
   "source": [
    "### Quicksort"
   ]
  },
  {
   "cell_type": "code",
   "execution_count": 18,
   "id": "a69cc663",
   "metadata": {
    "execution": {
     "iopub.execute_input": "2022-09-29T17:46:11.744388Z",
     "iopub.status.busy": "2022-09-29T17:46:11.743964Z",
     "iopub.status.idle": "2022-09-29T17:46:11.751212Z",
     "shell.execute_reply": "2022-09-29T17:46:11.749850Z"
    },
    "papermill": {
     "duration": 0.020725,
     "end_time": "2022-09-29T17:46:11.753667",
     "exception": false,
     "start_time": "2022-09-29T17:46:11.732942",
     "status": "completed"
    },
    "tags": []
   },
   "outputs": [],
   "source": [
    "def partition(array, low, high):\n",
    "    pivot = array[high]\n",
    "    \n",
    "    i = low - 1\n",
    "\n",
    "    for j in range(low, high):\n",
    "        if array[j] <= pivot:\n",
    "\n",
    "            i = i + 1\n",
    "\n",
    "            (array[i], array[j]) = (array[j], array[i])\n",
    "\n",
    "    (array[i + 1], array[high]) = (array[high], array[i + 1])\n",
    "\n",
    "    return i + 1"
   ]
  },
  {
   "cell_type": "code",
   "execution_count": 19,
   "id": "0f1e878a",
   "metadata": {
    "execution": {
     "iopub.execute_input": "2022-09-29T17:46:11.775170Z",
     "iopub.status.busy": "2022-09-29T17:46:11.774751Z",
     "iopub.status.idle": "2022-09-29T17:46:11.780538Z",
     "shell.execute_reply": "2022-09-29T17:46:11.779394Z"
    },
    "papermill": {
     "duration": 0.019143,
     "end_time": "2022-09-29T17:46:11.782773",
     "exception": false,
     "start_time": "2022-09-29T17:46:11.763630",
     "status": "completed"
    },
    "tags": []
   },
   "outputs": [],
   "source": [
    "def quickSort(array, low, high):\n",
    "    if low < high:\n",
    "        pi = partition(array, low, high)\n",
    "\n",
    "        quicksort(array, low, pi - 1)\n",
    "\n",
    "        quicksort(array, pi + 1, high)"
   ]
  },
  {
   "cell_type": "markdown",
   "id": "ab735590",
   "metadata": {
    "papermill": {
     "duration": 0.009595,
     "end_time": "2022-09-29T17:46:11.802357",
     "exception": false,
     "start_time": "2022-09-29T17:46:11.792762",
     "status": "completed"
    },
    "tags": []
   },
   "source": [
    "### Ativação dos sorts"
   ]
  },
  {
   "cell_type": "code",
   "execution_count": 20,
   "id": "d4f17ff0",
   "metadata": {
    "execution": {
     "iopub.execute_input": "2022-09-29T17:46:11.823852Z",
     "iopub.status.busy": "2022-09-29T17:46:11.823442Z",
     "iopub.status.idle": "2022-09-29T17:46:11.831224Z",
     "shell.execute_reply": "2022-09-29T17:46:11.830139Z"
    },
    "papermill": {
     "duration": 0.021128,
     "end_time": "2022-09-29T17:46:11.833305",
     "exception": false,
     "start_time": "2022-09-29T17:46:11.812177",
     "status": "completed"
    },
    "tags": []
   },
   "outputs": [],
   "source": [
    "def sort(df, method='quicksort'):\n",
    "    if method == 'quicksort':\n",
    "        array = [i for i in df.index]\n",
    "        size = len(df)\n",
    "        quicksort(array, 0, size - 1)\n",
    "\n",
    "        return df.reindex(array)\n",
    "\n",
    "    if method == 'heapsort':\n",
    "        array = [i for i in df.index]\n",
    "        heapsort(array)\n",
    "\n",
    "        return df.reindex(array)\n",
    "\n",
    "    if method == 'bubblesort':\n",
    "        array = [i for i in df.index]\n",
    "        bubblesort(array)\n",
    "\n",
    "        return df.reindex(array)\n",
    "\n",
    "    if method == 'mergesort':\n",
    "        array = [i for i in df.index]\n",
    "        mergesort(array)\n",
    "\n",
    "        return df.reindex(array)"
   ]
  },
  {
   "cell_type": "markdown",
   "id": "df7dba02",
   "metadata": {
    "papermill": {
     "duration": 0.009492,
     "end_time": "2022-09-29T17:46:11.852832",
     "exception": false,
     "start_time": "2022-09-29T17:46:11.843340",
     "status": "completed"
    },
    "tags": []
   },
   "source": [
    "### Execução"
   ]
  },
  {
   "cell_type": "code",
   "execution_count": 21,
   "id": "507a645d",
   "metadata": {
    "execution": {
     "iopub.execute_input": "2022-09-29T17:46:11.874182Z",
     "iopub.status.busy": "2022-09-29T17:46:11.873755Z",
     "iopub.status.idle": "2022-09-29T17:46:11.878641Z",
     "shell.execute_reply": "2022-09-29T17:46:11.877490Z"
    },
    "papermill": {
     "duration": 0.018021,
     "end_time": "2022-09-29T17:46:11.880644",
     "exception": false,
     "start_time": "2022-09-29T17:46:11.862623",
     "status": "completed"
    },
    "tags": []
   },
   "outputs": [],
   "source": [
    "# df_stations = df_stations.sample(frac=1,random_state=42)"
   ]
  },
  {
   "cell_type": "code",
   "execution_count": 22,
   "id": "68224150",
   "metadata": {
    "execution": {
     "iopub.execute_input": "2022-09-29T17:46:11.902179Z",
     "iopub.status.busy": "2022-09-29T17:46:11.901755Z",
     "iopub.status.idle": "2022-09-29T17:46:11.906268Z",
     "shell.execute_reply": "2022-09-29T17:46:11.905064Z"
    },
    "papermill": {
     "duration": 0.018009,
     "end_time": "2022-09-29T17:46:11.908538",
     "exception": false,
     "start_time": "2022-09-29T17:46:11.890529",
     "status": "completed"
    },
    "tags": []
   },
   "outputs": [],
   "source": [
    "# df_stations = sort(df_stations, bubbleSort)\n",
    "\n",
    "# df_stations = sort(df_stations, mergeSort)\n",
    "\n",
    "# df_stations = sort(df_stations, heapSort)\n",
    "\n",
    "# df_stations = sort(df_stations, quickSort)\n",
    "\n",
    "# print(df_stations)"
   ]
  },
  {
   "cell_type": "code",
   "execution_count": 23,
   "id": "729094b9",
   "metadata": {
    "execution": {
     "iopub.execute_input": "2022-09-29T17:46:11.930024Z",
     "iopub.status.busy": "2022-09-29T17:46:11.929588Z",
     "iopub.status.idle": "2022-09-29T17:46:11.934377Z",
     "shell.execute_reply": "2022-09-29T17:46:11.933288Z"
    },
    "papermill": {
     "duration": 0.018142,
     "end_time": "2022-09-29T17:46:11.936640",
     "exception": false,
     "start_time": "2022-09-29T17:46:11.918498",
     "status": "completed"
    },
    "tags": []
   },
   "outputs": [],
   "source": [
    "# df_stations"
   ]
  }
 ],
 "metadata": {
  "kernelspec": {
   "display_name": "Python 3",
   "language": "python",
   "name": "python3"
  },
  "language_info": {
   "codemirror_mode": {
    "name": "ipython",
    "version": 3
   },
   "file_extension": ".py",
   "mimetype": "text/x-python",
   "name": "python",
   "nbconvert_exporter": "python",
   "pygments_lexer": "ipython3",
   "version": "3.7.12"
  },
  "papermill": {
   "default_parameters": {},
   "duration": 26.691694,
   "end_time": "2022-09-29T17:46:12.667568",
   "environment_variables": {},
   "exception": null,
   "input_path": "__notebook__.ipynb",
   "output_path": "__notebook__.ipynb",
   "parameters": {},
   "start_time": "2022-09-29T17:45:45.975874",
   "version": "2.3.4"
  }
 },
 "nbformat": 4,
 "nbformat_minor": 5
}
